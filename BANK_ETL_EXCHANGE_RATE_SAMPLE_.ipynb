{
  "nbformat": 4,
  "nbformat_minor": 0,
  "metadata": {
    "colab": {
      "provenance": [],
      "authorship_tag": "ABX9TyN4qOeGQyiMRpqwaFhdcArF",
      "include_colab_link": true
    },
    "kernelspec": {
      "name": "python3",
      "display_name": "Python 3"
    },
    "language_info": {
      "name": "python"
    }
  },
  "cells": [
    {
      "cell_type": "markdown",
      "metadata": {
        "id": "view-in-github",
        "colab_type": "text"
      },
      "source": [
        "<a href=\"https://colab.research.google.com/github/Hamzahsam99/WaterResources/blob/main/BANK_ETL_EXCHANGE_RATE_SAMPLE_.ipynb\" target=\"_parent\"><img src=\"https://colab.research.google.com/assets/colab-badge.svg\" alt=\"Open In Colab\"/></a>"
      ]
    },
    {
      "cell_type": "code",
      "execution_count": 7,
      "metadata": {
        "id": "5z3R8JYYjGvg"
      },
      "outputs": [],
      "source": [
        "import pandas as pd\n",
        "import numpy as np\n",
        "import requests\n",
        "import sqlite3\n",
        "from bs4 import BeautifulSoup\n",
        "from datetime import datetime"
      ]
    },
    {
      "cell_type": "code",
      "source": [
        "def log_progress(msg):\n",
        "    timeformat = '%Y-%h-%d-%H:%M:%S'\n",
        "    now = datetime.now()\n",
        "    timestamp = now.strftime(timeformat)\n",
        "\n",
        "    with open(logfile, 'a') as f:\n",
        "        f.write(timestamp + ' : ' + msg + '\\n')"
      ],
      "metadata": {
        "id": "S-vKuuT0jL09"
      },
      "execution_count": 8,
      "outputs": []
    },
    {
      "cell_type": "code",
      "source": [
        "def extract(url, table_attribs):\n",
        "    df = pd.DataFrame(columns = table_attribs)\n",
        "\n",
        "    page = requests.get(url).text\n",
        "    data = BeautifulSoup(page, 'html.parser')\n",
        "\n",
        "    tables = data.find_all('tbody')[0]\n",
        "    rows = tables.find_all('tr')\n",
        "\n",
        "    for row in rows:\n",
        "        col = row.find_all('td')\n",
        "        if len(col) != 0:\n",
        "            ancher_data = col[1].find_all('a')[1]\n",
        "            if ancher_data is not None:\n",
        "                data_dict = {\n",
        "                    'Name': ancher_data.contents[0],\n",
        "                    'MC_USD_Billion': col[2].contents[0]\n",
        "                }\n",
        "                df1 = pd.DataFrame(data_dict, index = [0])\n",
        "                df = pd.concat([df, df1], ignore_index = True)\n",
        "\n",
        "    USD_list = list(df['MC_USD_Billion'])\n",
        "    USD_list = [float(''.join(x.split('\\n'))) for x in USD_list]\n",
        "    df['MC_USD_Billion'] = USD_list\n",
        "\n",
        "    return df"
      ],
      "metadata": {
        "id": "k9Dnf6QfjNF-"
      },
      "execution_count": 9,
      "outputs": []
    },
    {
      "cell_type": "code",
      "source": [
        "def transform(df, exchange_rate_path):\n",
        "    csvfile = pd.read_csv(exchange_rate_path)\n",
        "\n",
        "    # i made here the content for currenct is the keys and the content of\n",
        "    # the rate is the values to the crossponding keys\n",
        "    dict = csvfile.set_index('Currency').to_dict()['Rate']\n",
        "\n",
        "    df['MC_GBP_Billion'] = [np.round(x * dict['GBP'],2) for x in df['MC_USD_Billion']]\n",
        "    df['MC_INR_Billion'] = [np.round(x * dict['INR'],2) for x in df['MC_USD_Billion']]\n",
        "    df['MC_EUR_Billion'] = [np.round(x * dict['EUR'],2) for x in df['MC_USD_Billion']]\n",
        "\n",
        "    return df"
      ],
      "metadata": {
        "id": "OniIS1B_jXjd"
      },
      "execution_count": 10,
      "outputs": []
    },
    {
      "cell_type": "code",
      "source": [
        "def load_to_csv(df, output_path):\n",
        "    df.to_csv(output_path)\n",
        "\n",
        "\n",
        "def load_to_db(df, sql_connection, table_name):\n",
        "    df.to_sql(table_name, sql_connection, if_exists = 'replace', index = False)\n",
        "\n",
        "def run_query(query_statements, sql_connection):\n",
        "    for query in query_statements:\n",
        "        print(query)\n",
        "        print(pd.read_sql(query, sql_connection), '\\n')\n"
      ],
      "metadata": {
        "id": "ZLr9Z9m1jboJ"
      },
      "execution_count": 11,
      "outputs": []
    },
    {
      "cell_type": "code",
      "source": [
        "''' Here, you define the required entities and call the relevant\n",
        "functions in the correct order to complete the project. Note that this\n",
        "portion is not inside any function.'''\n",
        "\n",
        "url = 'https://web.archive.org/web/20230908091635/https://en.wikipedia.org/wiki/List_of_largest_banks'\n",
        "exchange_rate_path = 'https://raw.githubusercontent.com/Mohamed-fawzyy/Bank-ETL/master/exchange_rate.csv'\n",
        "\n",
        "table_attribs = ['Name', 'MC_USD_Billion']\n",
        "db_name = 'Banks.db'\n",
        "table_name = 'Largest_banks'\n",
        "conn = sqlite3.connect(db_name)\n",
        "query_statements = [\n",
        "        'SELECT * FROM Largest_banks',\n",
        "        'SELECT AVG(MC_GBP_Billion) FROM Largest_banks',\n",
        "        'SELECT Name from Largest_banks LIMIT 5'\n",
        "    ]\n",
        "\n",
        "logfile = 'code_log.txt'\n",
        "output_csv_path = 'Largest_banks_data.csv'\n",
        "\n",
        "log_progress('Preliminaries complete. Initiating ETL process.')\n",
        "\n",
        "df = extract(url, table_attribs)\n",
        "log_progress('Data extraction complete. Initiating Transformation process.')\n",
        "\n",
        "\n",
        "df = transform(df, exchange_rate_path)\n",
        "log_progress('Data transformation complete. Initiating loading process.')\n",
        "\n",
        "load_to_csv(df, output_csv_path)\n",
        "log_progress('Data saved to CSV file.')\n",
        "\n",
        "log_progress('SQL Connection initiated.')\n",
        "\n",
        "\n",
        "load_to_db(df, conn, table_name)\n",
        "log_progress('Data loaded to Database as table. Running the query.')\n",
        "\n",
        "run_query(query_statements, conn)\n",
        "conn.close()\n",
        "log_progress('Process Complete.')"
      ],
      "metadata": {
        "colab": {
          "base_uri": "https://localhost:8080/"
        },
        "id": "S4ncLLBQjhY7",
        "outputId": "e5b22dcc-e64c-45ba-96b1-cdeea0a1a872"
      },
      "execution_count": 15,
      "outputs": [
        {
          "output_type": "stream",
          "name": "stdout",
          "text": [
            "SELECT * FROM Largest_banks\n",
            "                                      Name  MC_USD_Billion  MC_GBP_Billion  \\\n",
            "0                           JPMorgan Chase          432.92          346.34   \n",
            "1                          Bank of America          231.52          185.22   \n",
            "2  Industrial and Commercial Bank of China          194.56          155.65   \n",
            "3               Agricultural Bank of China          160.68          128.54   \n",
            "4                                HDFC Bank          157.91          126.33   \n",
            "5                              Wells Fargo          155.87          124.70   \n",
            "6                        HSBC Holdings PLC          148.90          119.12   \n",
            "7                           Morgan Stanley          140.83          112.66   \n",
            "8                  China Construction Bank          139.82          111.86   \n",
            "9                            Bank of China          136.81          109.45   \n",
            "\n",
            "   MC_INR_Billion  MC_EUR_Billion  \n",
            "0        35910.71          402.62  \n",
            "1        19204.58          215.31  \n",
            "2        16138.75          180.94  \n",
            "3        13328.41          149.43  \n",
            "4        13098.63          146.86  \n",
            "5        12929.42          144.96  \n",
            "6        12351.26          138.48  \n",
            "7        11681.85          130.97  \n",
            "8        11598.07          130.03  \n",
            "9        11348.39          127.23   \n",
            "\n",
            "SELECT AVG(MC_GBP_Billion) FROM Largest_banks\n",
            "   AVG(MC_GBP_Billion)\n",
            "0              151.987 \n",
            "\n",
            "SELECT Name from Largest_banks LIMIT 5\n",
            "                                      Name\n",
            "0                           JPMorgan Chase\n",
            "1                          Bank of America\n",
            "2  Industrial and Commercial Bank of China\n",
            "3               Agricultural Bank of China\n",
            "4                                HDFC Bank \n",
            "\n"
          ]
        }
      ]
    }
  ]
}